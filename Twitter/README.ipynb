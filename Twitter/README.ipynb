{
 "cells": [
  {
   "cell_type": "code",
   "execution_count": 19,
   "metadata": {
    "collapsed": true
   },
   "outputs": [],
   "source": [
    "# Dependencies\n",
    "import tweepy\n",
    "import json\n",
    "import numpy as np\n",
    "import seaborn as sns\n",
    "import pandas as pd\n",
    "import matplotlib.pyplot as plt\n",
    "\n",
    "# Import and Initialize Sentiment Analyzer\n",
    "from vaderSentiment.vaderSentiment import SentimentIntensityAnalyzer\n",
    "analyzer = SentimentIntensityAnalyzer()"
   ]
  },
  {
   "cell_type": "code",
   "execution_count": 20,
   "metadata": {
    "collapsed": true
   },
   "outputs": [],
   "source": [
    "# Twitter API Keys\n",
    "consumer_key = '9JxCXW0dA4SU2tlkzJ65Irl4E'\n",
    "consumer_secret = 'fuADIcafEm1GFLTns5pBJ2LyJ7MYKDIzOb0TjaF5dY5Ihfcc1s'\n",
    "access_token = '51898764-ApC1RerXMpDt6FEGHgVkfbiaRehsWD2TpVlboEo51'\n",
    "access_token_secret = 'WBKrjp1Zrp1bm44xRU1jH4QyFJHobp1EmyjrzTnRFFe6s'"
   ]
  },
  {
   "cell_type": "code",
   "execution_count": 21,
   "metadata": {
    "collapsed": true
   },
   "outputs": [],
   "source": [
    "auth = tweepy.OAuthHandler(consumer_key, consumer_secret)\n",
    "auth.set_access_token(access_token, access_token_secret)\n",
    "api = tweepy.API(auth, parser=tweepy.parsers.JSONParser())"
   ]
  },
  {
   "cell_type": "code",
   "execution_count": 22,
   "metadata": {
    "collapsed": true
   },
   "outputs": [],
   "source": [
    "#the tweets we want to pull from\n",
    "news_outlet = [\"BBCWorld\", \"CBS\", \"CNN\", \"FoxNews\", \"nytimes\"]"
   ]
  },
  {
   "cell_type": "code",
   "execution_count": 23,
   "metadata": {
    "collapsed": true
   },
   "outputs": [],
   "source": [
    "# Variables for holding sentiments\n",
    "twitter_df = []\n",
    "compound_list = []\n",
    "positive_list = []\n",
    "negative_list = []\n",
    "neutral_list = []\n",
    "\n",
    "# Loop through 100 tweets:\n",
    "for news in news_outlet:\n",
    "    \n",
    "    # Get all tweets from home feed\n",
    "    public_tweets = api.user_timeline(news, count=100, result_type=\"recent\")\n",
    "\n",
    "    # Loop through all tweets \n",
    "    for tweet in public_tweets:\n",
    "        counter = 1\n",
    "        \n",
    "        text = tweet[\"text\"]\n",
    "        compound = analyzer.polarity_scores(text)[\"compound\"]\n",
    "        pos = analyzer.polarity_scores(text)[\"pos\"]\n",
    "        neu = analyzer.polarity_scores(text)[\"neu\"]\n",
    "        neg = analyzer.polarity_scores(text)[\"neg\"]\n",
    "        tweets_ago = counter\n",
    "        \n",
    "        \n",
    "        twitter_df.append({\"New Outlet\": (tweet['user']['name']),\n",
    "                           \"Compound\": compound,\n",
    "                           \"Positive\": pos,\n",
    "                           \"Negative\": neu,\n",
    "                           \"Neutral\": neg,})\n",
    "        \n",
    "        counter = counter + 1\n",
    "        #print(twitter_df)\n",
    "        "
   ]
  },
  {
   "cell_type": "code",
   "execution_count": 24,
   "metadata": {
    "collapsed": true
   },
   "outputs": [],
   "source": [
    "df_twitter = pd.DataFrame.from_dict(twitter_df)\n"
   ]
  },
  {
   "cell_type": "code",
   "execution_count": 25,
   "metadata": {
    "collapsed": true
   },
   "outputs": [],
   "source": [
    "bbc_df = df_twitter.loc[df_twitter[\"New Outlet\"] == \"BBC News (World)\",:]\n",
    "cbs_df = df_twitter.loc[df_twitter[\"New Outlet\"] == \"CBS\",:]\n",
    "cnn_df = df_twitter.loc[df_twitter[\"New Outlet\"] == \"CNN\",:]\n",
    "fox_df = df_twitter.loc[df_twitter[\"New Outlet\"] == \"Fox News\",:]\n",
    "nytimes_df = df_twitter.loc[df_twitter[\"New Outlet\"] == \"The New York Times\",:]"
   ]
  },
  {
   "cell_type": "code",
   "execution_count": 26,
   "metadata": {},
   "outputs": [
    {
     "name": "stdout",
     "output_type": "stream",
     "text": [
      "[100  99  98  97  96  95  94  93  92  91  90  89  88  87  86  85  84  83\n",
      "  82  81  80  79  78  77  76  75  74  73  72  71  70  69  68  67  66  65\n",
      "  64  63  62  61  60  59  58  57  56  55  54  53  52  51  50  49  48  47\n",
      "  46  45  44  43  42  41  40  39  38  37  36  35  34  33  32  31  30  29\n",
      "  28  27  26  25  24  23  22  21  20  19  18  17  16  15  14  13  12  11\n",
      "  10   9   8   7   6   5   4   3   2   1]\n"
     ]
    }
   ],
   "source": [
    "x_axis = np.arange(100, 0, -1)\n",
    "print(x_axis)\n",
    "\n"
   ]
  },
  {
   "cell_type": "code",
   "execution_count": 27,
   "metadata": {
    "collapsed": true
   },
   "outputs": [],
   "source": [
    "bbc_comp = bbc_df[\"Compound\"]\n",
    "cbs_comp = cbs_df[\"Compound\"]\n",
    "cnn_comp = cnn_df[\"Compound\"]\n",
    "fox_comp = fox_df[\"Compound\"]\n",
    "nytimes_comp = nytimes_df[\"Compound\"]"
   ]
  },
  {
   "cell_type": "code",
   "execution_count": 30,
   "metadata": {},
   "outputs": [
    {
     "data": {
      "image/png": "[encoded data removed]",
      "text/plain": [
       "<matplotlib.figure.Figure at 0x2198f7b1cf8>"
      ]
     },
     "metadata": {},
     "output_type": "display_data"
    },
    {
     "data": {
      "text/plain": [
       "Text(0,0.5,'Tweet Polarity')"
      ]
     },
     "execution_count": 30,
     "metadata": {},
     "output_type": "execute_result"
    }
   ],
   "source": [
    "BBC_plot = plt.scatter(x_axis, bbc_comp, marker=\"o\", facecolors=\"green\", edgecolors=\"black\", \n",
    "            alpha=0.75, label=\"BBC\")\n",
    "\n",
    "CBS_plot = plt.scatter(x_axis, cbs_comp, marker=\"o\", facecolors=\"yellow\", edgecolors=\"black\", \n",
    "            alpha=0.75, label=\"CBS\")\n",
    "\n",
    "CNN_plot = plt.scatter(x_axis, cnn_comp, marker=\"o\", facecolors=\"orange\", edgecolors=\"black\", \n",
    "            alpha=0.75, label=\"CNN\")\n",
    "\n",
    "Fox_plot = plt.scatter(x_axis, fox_comp, marker=\"o\", facecolors=\"red\", edgecolors=\"black\", \n",
    "            alpha=0.75, label=\"FOX\")\n",
    "\n",
    "nyt_plot = plt.scatter(x_axis, nytimes_comp, marker=\"o\", facecolors=\"blue\", edgecolors=\"black\", \n",
    "            alpha=0.75, label=\"NYTIMES\")\n",
    "\n",
    "\n",
    "plt.legend(loc=\"upper right\")\n",
    "plt.xticks([100, 80, 60, 40, 20, 0])\n",
    "\n",
    "plt.savefig(\"Last hundred tweets scatter plot\")\n",
    "\n",
    "plt.show()\n",
    "\n",
    "plt.title(\"Sentiments Analysis of Media Tweets\")\n",
    "plt.xlabel(\"Tweets Ago\")\n",
    "plt.ylabel(\"Tweet Polarity\")\n",
    "\n"
   ]
  },
  {
   "cell_type": "code",
   "execution_count": 42,
   "metadata": {
    "collapsed": true
   },
   "outputs": [],
   "source": [
    "bbc_mean = (np.mean(bbc_comp))\n",
    "cbs_mean = (np.mean(cbs_comp))\n",
    "cnn_mean = (np.mean(cnn_comp))\n",
    "fox_mean = (np.mean(fox_comp))\n",
    "nytime_mean = (np.mean(nytimes_comp))"
   ]
  },
  {
   "cell_type": "code",
   "execution_count": 43,
   "metadata": {},
   "outputs": [
    {
     "name": "stdout",
     "output_type": "stream",
     "text": [
      "-0.075621\n"
     ]
    }
   ],
   "source": [
    "print(nytime_mean)"
   ]
  },
  {
   "cell_type": "code",
   "execution_count": 44,
   "metadata": {},
   "outputs": [
    {
     "name": "stdout",
     "output_type": "stream",
     "text": [
      "5\n",
      "[-0.147266, 0.328515, -0.050477999999999995, -0.11781799999999996, -0.075621]\n"
     ]
    }
   ],
   "source": [
    "users = [bbc_mean, cbs_mean, cnn_mean, fox_mean, nytime_mean]\n",
    "x_axis = np.arange(len(users))\n",
    "print(len(x_axis))\n",
    "print(users)"
   ]
  },
  {
   "cell_type": "code",
   "execution_count": 45,
   "metadata": {},
   "outputs": [],
   "source": [
    "barlist = plt.bar(x_axis, users, color='r', alpha=0.5, align=\"edge\")\n",
    "tick_locations = [value+0.4 for value in x_axis]\n",
    "plt.xticks(tick_locations, [\"BBC\", \"CBS\", \"CNN\", \"FOX\", \"nytime\"])\n",
    "\n",
    "barlist[0].set_color('green')\n",
    "barlist[1].set_color('yellow')\n",
    "barlist[2].set_color('orange')\n",
    "barlist[3].set_color('red')\n",
    "barlist[4].set_color('blue')"
   ]
  },
  {
   "cell_type": "code",
   "execution_count": 46,
   "metadata": {},
   "outputs": [
    {
     "data": {
      "text/plain": [
       "(-0.197266, 0.378515)"
      ]
     },
     "execution_count": 46,
     "metadata": {},
     "output_type": "execute_result"
    }
   ],
   "source": [
    "plt.xlim(-0.25, len(x_axis))\n",
    "plt.ylim(min(users)-.05, max(users)+.05)"
   ]
  },
  {
   "cell_type": "code",
   "execution_count": 47,
   "metadata": {},
   "outputs": [
    {
     "data": {
      "image/png": "[encoded data removed]",
      "text/plain": [
       "<matplotlib.figure.Figure at 0x2199078cbe0>"
      ]
     },
     "metadata": {},
     "output_type": "display_data"
    }
   ],
   "source": [
    "plt.title(\"Overall Media Sentiment Based on Twitter\")\n",
    "plt.xlabel(\"Twitter Handles\")\n",
    "plt.ylabel(\"Tweet Polarity\")\n",
    "\n",
    "plt.savefig(\"Media Sentiment\")\n",
    "\n",
    "plt.show()\n",
    "\n"
   ]
  },
  {
   "cell_type": "code",
   "execution_count": null,
   "metadata": {
    "collapsed": true
   },
   "outputs": [],
   "source": []
  },
  {
   "cell_type": "code",
   "execution_count": null,
   "metadata": {
    "collapsed": true
   },
   "outputs": [],
   "source": []
  }
 ],
 "metadata": {
  "kernelspec": {
   "display_name": "Python 3",
   "language": "python",
   "name": "python3"
  },
  "language_info": {
   "codemirror_mode": {
    "name": "ipython",
    "version": 3
   },
   "file_extension": ".py",
   "mimetype": "text/x-python",
   "name": "python",
   "nbconvert_exporter": "python",
   "pygments_lexer": "ipython3",
   "version": "3.6.3"
  }
 },
 "nbformat": 4,
 "nbformat_minor": 2
}
